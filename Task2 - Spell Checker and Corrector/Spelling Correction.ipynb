{
 "cells": [
  {
   "cell_type": "code",
   "execution_count": 1,
   "metadata": {},
   "outputs": [],
   "source": [
    "import re\n",
    "from collections import Counter\n",
    "\n",
    "# Import the corpus and get the count of each word\n",
    "WORDS = open(\"corpus.txt\").read()\n",
    "WORDS = re.findall('[a-zA-Z0-9]+', WORDS.lower())\n",
    "# Create a dictionary where word is the key and it's count is the value\n",
    "WORDS = Counter(WORDS)"
   ]
  },
  {
   "cell_type": "code",
   "execution_count": 2,
   "metadata": {},
   "outputs": [],
   "source": [
    "# The following functions return the set of words with edit distance at one and two respectively.\n",
    "# One edit incluldes Deletion, Transposition, Replacement, and Inserts.\n",
    "\n",
    "def edits_at_one_distance(word):\n",
    "    alphabet = \"abcdefghijklmnopqrstuvwxyz\"\n",
    "\n",
    "    splits = [(word[:i], word[i:]) for i in range(len(word) + 1)]\n",
    "    \n",
    "    deletes = [L + R[1:] for L, R in splits if R]\n",
    "    # print(deletes)\n",
    "\n",
    "    transposes = [L + R[1] + R[0] + R[2:] for L, R in splits if len(R) > 1]\n",
    "    # print(transposes)\n",
    "\n",
    "    replaces = [L + c + R[1:] for L, R in splits if R for c in alphabet]\n",
    "    # print(replaces)\n",
    "\n",
    "    inserts = [L + c + R for L, R in splits for c in alphabet]\n",
    "    # print(inserts)\n",
    "    \n",
    "    return set(deletes + transposes + replaces + inserts)\n",
    "\n",
    "# Return a set of words with edit distance of two\n",
    "def edits_at_two_distance(word):\n",
    "    return (e2 for e1 in edits_at_one_distance(word) for e2 in edits_at_one_distance(e1))"
   ]
  },
  {
   "cell_type": "code",
   "execution_count": 3,
   "metadata": {},
   "outputs": [],
   "source": [
    "# Reduce the length of word. A same alphabet does not occur more than twice in a word in English.\n",
    "def reduce_length(word):\n",
    "#     print(re.sub(r'(.)\\1{2,}', r'\\1\\1', word))\n",
    "#     pattern = re.compile(r'(.)\\1{2,}')\n",
    "#     print(pattern.sub(r'\\1\\1', 'a', word))\n",
    "    return re.sub(r'(.)\\1{2,}', r'\\1\\1', word)\n",
    "\n",
    "# This is the utility function to return the probability of a given word in the corpus.\n",
    "def probability_of_word(word, N=sum(WORDS.values())):\n",
    "    return WORDS[word] / N\n",
    "\n",
    "# This function returns the correction of a given incorrect word.\n",
    "def correction(word):\n",
    "    word = reduce_length(word)\n",
    "    return max(candidates(word), key=probability_of_word)\n",
    "\n",
    "# This function returns all the possible candidates of a given words\n",
    "def candidates(word):\n",
    "    return (known([word]) or known(edits_at_one_distance(word)) or known(edits_at_two_distance(word)) or [word])\n",
    "\n",
    "# This function returns all the known words based on the corpus among the can\n",
    "def known(words):\n",
    "    return set(word for word in words if word in WORDS)"
   ]
  },
  {
   "cell_type": "code",
   "execution_count": 4,
   "metadata": {},
   "outputs": [],
   "source": [
    "def tests():  \n",
    "    assert correction(\"pattern\") == \"pattern\"\n",
    "    assert correction(\"amaziiingggggggg\") == \"amazing\"\n",
    "    assert correction(\"speling\") == \"spelling\"\n",
    "    assert correction(\"currected\") == \"corrected\"\n",
    "    assert correction(\"get\") == \"get\"\n",
    "    print('Sample tests pass.')"
   ]
  },
  {
   "cell_type": "code",
   "execution_count": 5,
   "metadata": {},
   "outputs": [
    {
     "name": "stdout",
     "output_type": "stream",
     "text": [
      "Sample tests pass.\n"
     ]
    }
   ],
   "source": [
    "tests()"
   ]
  },
  {
   "cell_type": "code",
   "execution_count": 6,
   "metadata": {},
   "outputs": [],
   "source": [
    "# The testset contains the data in format \n",
    "# right : list of wrongs\n",
    "# It is split into a set of pairs using the following function.\n",
    "\n",
    "def Testset(lines):\n",
    "    return [(right, wrong) for right, wrongs in (line.split(\":\") for line in lines)\n",
    "           for wrong in wrongs.split()]"
   ]
  },
  {
   "cell_type": "code",
   "execution_count": 7,
   "metadata": {},
   "outputs": [],
   "source": [
    "def spelltest(test, verbose=False):\n",
    "    good, unknown = 0, 0\n",
    "    n = len(test)\n",
    "    for right, wrong in test:\n",
    "        w = correction(wrong)\n",
    "        if w == right:\n",
    "            good = good + 1\n",
    "        else:\n",
    "            if right not in WORDS:\n",
    "                unknown = unknown + 1\n",
    "            if verbose:\n",
    "                print(\"Correction ({}) -> {} ({}), expected {} ({})\".format(wrong, w, WORDS[w], right, WORDS[right]))\n",
    "    print(\"{:.0%} of {} correct\".format(good / n, n))"
   ]
  },
  {
   "cell_type": "code",
   "execution_count": 8,
   "metadata": {},
   "outputs": [
    {
     "name": "stdout",
     "output_type": "stream",
     "text": [
      "75% of 270 correct\n"
     ]
    }
   ],
   "source": [
    "spelltest(Testset(open(\"spell-testset1.txt\")))"
   ]
  },
  {
   "cell_type": "code",
   "execution_count": 9,
   "metadata": {},
   "outputs": [
    {
     "name": "stdout",
     "output_type": "stream",
     "text": [
      "68% of 400 correct\n"
     ]
    }
   ],
   "source": [
    "spelltest(Testset(open(\"spell-testset2.txt\")))"
   ]
  }
 ],
 "metadata": {
  "kernelspec": {
   "display_name": "Python 3",
   "language": "python",
   "name": "python3"
  },
  "language_info": {
   "codemirror_mode": {
    "name": "ipython",
    "version": 3
   },
   "file_extension": ".py",
   "mimetype": "text/x-python",
   "name": "python",
   "nbconvert_exporter": "python",
   "pygments_lexer": "ipython3",
   "version": "3.6.8"
  }
 },
 "nbformat": 4,
 "nbformat_minor": 2
}
