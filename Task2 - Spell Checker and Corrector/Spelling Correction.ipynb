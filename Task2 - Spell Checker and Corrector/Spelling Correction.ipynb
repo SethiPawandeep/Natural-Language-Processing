{
 "cells": [
  {
   "cell_type": "code",
   "execution_count": 35,
   "metadata": {},
   "outputs": [],
   "source": [
    "import re\n",
    "from collections import Counter\n",
    "\n",
    "\n",
    "\n",
    "def edits_at_one_distance(word):\n",
    "    alphabet = \"abcdefghijklmnopqrstuvwxyz\"\n",
    "\n",
    "    splits = [(word[:i], word[i:]) for i in range(len(word) + 1)]\n",
    "    print(splits)\n",
    "\n",
    "    deletes = [L + R[1:] for L, R in splits if R]\n",
    "    # print(deletes)\n",
    "\n",
    "    transposes = [L + R[1] + R[0] + R[2:] for L, R in splits if len(R) > 1]\n",
    "    # print(transposes)\n",
    "\n",
    "    replaces = [L + c + R[1:] for L, R in splits if R for c in alphabet]\n",
    "    # print(replaces)\n",
    "\n",
    "    inserts = [L + c + R for L, R in splits for c in alphabet]\n",
    "    # print(inserts)\n",
    "\n",
    "    return set(deletes + transposes + replaces + inserts)\n",
    "\n",
    "def edits_at_two_distance(word):\n",
    "    return (e2 for e1 in edits_at_one_distance(word) for e2 in edits_at_one_distance(e1))"
   ]
  },
  {
   "cell_type": "code",
   "execution_count": null,
   "metadata": {},
   "outputs": [],
   "source": []
  }
 ],
 "metadata": {
  "kernelspec": {
   "display_name": "Python 3",
   "language": "python",
   "name": "python3"
  },
  "language_info": {
   "codemirror_mode": {
    "name": "ipython",
    "version": 3
   },
   "file_extension": ".py",
   "mimetype": "text/x-python",
   "name": "python",
   "nbconvert_exporter": "python",
   "pygments_lexer": "ipython3",
   "version": "3.6.7"
  }
 },
 "nbformat": 4,
 "nbformat_minor": 2
}
