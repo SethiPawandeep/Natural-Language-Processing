{
 "cells": [
  {
   "cell_type": "code",
   "execution_count": 4,
   "metadata": {},
   "outputs": [],
   "source": [
    "import re\n",
    "from collections import Counter\n",
    "\n",
    "# Import the corpus and get the count of each word\n",
    "WORDS = open(\"corpus.txt\").read()\n",
    "WORDS = re.findall('[a-zA-Z0-9]+', WORDS.lower())\n",
    "WORDS = Counter(WORDS)"
   ]
  },
  {
   "cell_type": "code",
   "execution_count": 5,
   "metadata": {},
   "outputs": [],
   "source": [
    "# The following functions return the set of words with edit distance at one and two respectively.\n",
    "# One edit incluldes Deletion, Transposition, Replacement, and Inserts.\n",
    "\n",
    "def edits_at_one_distance(word):\n",
    "    alphabet = \"abcdefghijklmnopqrstuvwxyz\"\n",
    "\n",
    "    splits = [(word[:i], word[i:]) for i in range(len(word) + 1)]\n",
    "    \n",
    "    deletes = [L + R[1:] for L, R in splits if R]\n",
    "    # print(deletes)\n",
    "\n",
    "    transposes = [L + R[1] + R[0] + R[2:] for L, R in splits if len(R) > 1]\n",
    "    # print(transposes)\n",
    "\n",
    "    replaces = [L + c + R[1:] for L, R in splits if R for c in alphabet]\n",
    "    # print(replaces)\n",
    "\n",
    "    inserts = [L + c + R for L, R in splits for c in alphabet]\n",
    "    # print(inserts)\n",
    "\n",
    "    return set(deletes + transposes + replaces + inserts)\n",
    "\n",
    "def edits_at_two_distance(word):\n",
    "    return (e2 for e1 in edits_at_one_distance(word) for e2 in edits_at_one_distance(e1))"
   ]
  },
  {
   "cell_type": "code",
   "execution_count": 8,
   "metadata": {},
   "outputs": [],
   "source": [
    "# Reduce the length of word. A same alphabet does not occur more than twice in a word in English.\n",
    "def reduce_length(word):\n",
    "#     print(re.sub(r'(.)\\1{2,}', r'\\1\\1', word))\n",
    "#     pattern = re.compile(r'(.)\\1{2,}')\n",
    "#     print(pattern.sub(r'\\1\\1', 'a', word))\n",
    "    return re.sub(r'(.)\\1{2,}', r'\\1\\1', word)\n",
    "\n",
    "# This is the utility function to return the probability of a given word in the corpus.\n",
    "def probability_of_word(word, N=sum(WORDS.values())):\n",
    "    return WORDS[word] / N\n",
    "\n",
    "# This function returns the correction of a given incorrect word.\n",
    "def correction(word):\n",
    "    word = reduce_length(word)\n",
    "    return max(candidates(word), key=probability_of_word)\n",
    "\n",
    "# This function returns all the possible candidates of a given words\n",
    "def candidates(word):\n",
    "    return (known([word]) or known(edits_at_one_distance(word)) or known(edits_at_two_distance(word)) or [word])\n",
    "\n",
    "# This function returns all the known words based on the corpus among the can\n",
    "def known(words):\n",
    "    return set(word for word in words if word in WORDS)"
   ]
  },
  {
   "cell_type": "code",
   "execution_count": 15,
   "metadata": {},
   "outputs": [
    {
     "name": "stdout",
     "output_type": "stream",
     "text": [
      "pattern\n",
      "amazing\n",
      "spelling\n",
      "corrected\n",
      "current\n"
     ]
    }
   ],
   "source": [
    "print(correction(\"pattern\"))\n",
    "print(correction(\"amaziiingggggggg\"))\n",
    "print(correction(\"speling\"))\n",
    "print(correction(\"currected\"))\n",
    "print(correction(\"currect\"))"
   ]
  }
 ],
 "metadata": {
  "kernelspec": {
   "display_name": "Python 3",
   "language": "python",
   "name": "python3"
  },
  "language_info": {
   "codemirror_mode": {
    "name": "ipython",
    "version": 3
   },
   "file_extension": ".py",
   "mimetype": "text/x-python",
   "name": "python",
   "nbconvert_exporter": "python",
   "pygments_lexer": "ipython3",
   "version": "3.6.7"
  }
 },
 "nbformat": 4,
 "nbformat_minor": 2
}
